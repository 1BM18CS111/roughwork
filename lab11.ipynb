{
 "cells": [
  {
   "cell_type": "code",
   "execution_count": 132,
   "metadata": {},
   "outputs": [],
   "source": [
    "from numpy import * \n",
    "from os import listdir \n",
    "import matplotlib \n",
    "import matplotlib.pyplot as plt \n",
    "import pandas as pd \n",
    "import numpy as np1 \n",
    "import numpy.linalg as np \n",
    "from scipy.stats.stats import pearsonr\n",
    "plt.style.use(\"seaborn\")"
   ]
  },
  {
   "cell_type": "code",
   "execution_count": 133,
   "metadata": {},
   "outputs": [],
   "source": [
    "def estimate_coef(x, y):\n",
    "    # number of observations/points\n",
    "    n = np1.size(x)\n",
    " \n",
    "    # mean of x and y vector\n",
    "    m_x = np1.mean(x)\n",
    "    m_y = np1.mean(y)\n",
    " \n",
    "    # calculating cross-deviation and deviation about x\n",
    "    SS_xy = np1.sum(y*x) - n*m_y*m_x\n",
    "    SS_xx = np1.sum(x*x) - n*m_x*m_x\n",
    " \n",
    "    # calculating regression coefficients\n",
    "    b_1 = SS_xy / SS_xx\n",
    "    b_0 = m_y - b_1*m_x\n",
    " \n",
    "    return (b_0, b_1)"
   ]
  },
  {
   "cell_type": "code",
   "execution_count": 134,
   "metadata": {},
   "outputs": [
    {
     "name": "stdout",
     "output_type": "stream",
     "text": [
      "Estimated coefficients:\n",
      "b_0 = 64.7182001343183            \n",
      "b_1 = 0.37931497649429224\n",
      "y =  85.58052384150437\n"
     ]
    }
   ],
   "source": [
    "x = np1.array([43, 21, 25, 42, 57, 59])\n",
    "y = np1.array([95, 65, 79, 75, 87, 81])\n",
    " \n",
    "    # estimating coefficients\n",
    "b = estimate_coef(x, y)\n",
    "print(\"Estimated coefficients:\\nb_0 = {}  \\\n",
    "          \\nb_1 = {}\".format(b[0], b[1]))\n",
    " \n",
    "print(\"y = \", (b[0] + 55*b[1]))"
   ]
  },
  {
   "cell_type": "code",
   "execution_count": 135,
   "metadata": {},
   "outputs": [],
   "source": [
    "def kernel(point,xmat, k):\n",
    "    m,n = np1.shape(xmat) \n",
    "    weights = np1.mat(np1.eye((m))) \n",
    "    for j in range(m): \n",
    "        diff = point - X[j] \n",
    "        weights[j,j] = np1.exp(diff*diff.T/(-2.0*k**2))\n",
    "        #print(type(weights[j,j]))\n",
    "    return weights"
   ]
  },
  {
   "cell_type": "code",
   "execution_count": 136,
   "metadata": {},
   "outputs": [],
   "source": [
    "def localWeight(point,xmat,ymat,k): \n",
    "    wei = kernel(point,xmat,k) \n",
    "    W = (X.T*(wei*X)).I*(X.T*(wei*ymat.T))\n",
    "    return W"
   ]
  },
  {
   "cell_type": "code",
   "execution_count": 137,
   "metadata": {},
   "outputs": [],
   "source": [
    "def localWeightRegression(xmat,ymat,k):\n",
    "    m,n = np1.shape(xmat) \n",
    "    ypred = np1.zeros(m) \n",
    "    for i in range(m): \n",
    "        ypred[i] = xmat[i]*localWeight(xmat[i],xmat,ymat,k) \n",
    "    return ypred"
   ]
  },
  {
   "cell_type": "code",
   "execution_count": 138,
   "metadata": {},
   "outputs": [],
   "source": [
    "#load data points \n",
    "data = pd.read_csv('test.csv') \n",
    "bill = np1.array(data.X) \n",
    "tip = np1.array(data.Y)"
   ]
  },
  {
   "cell_type": "code",
   "execution_count": null,
   "metadata": {},
   "outputs": [],
   "source": []
  },
  {
   "cell_type": "code",
   "execution_count": null,
   "metadata": {},
   "outputs": [],
   "source": []
  },
  {
   "cell_type": "code",
   "execution_count": 139,
   "metadata": {},
   "outputs": [
    {
     "name": "stdout",
     "output_type": "stream",
     "text": [
      "[[ 1. 43.]\n",
      " [ 1. 21.]\n",
      " [ 1. 25.]\n",
      " [ 1. 42.]\n",
      " [ 1. 57.]\n",
      " [ 1. 59.]\n",
      " [ 1. 55.]]\n"
     ]
    }
   ],
   "source": [
    "#preparing and add 1 in bill \n",
    "mbill = np1.mat(bill) \n",
    "mtip = np1.mat(tip) \n",
    "# mat is used to convert to n dimesiona to 2 dimensional array form \n",
    "m= np1.shape(mbill)[1] # print(m) 244 data is stored in m \n",
    "one = np1.mat(np1.ones(m)) \n",
    "X= np1.hstack((one.T,mbill.T)) # create a stack of bill from ONE \n",
    "print(X) \n",
    "#set k here \n",
    "ypred = localWeightRegression(X,mtip,2) \n",
    "SortIndex = X[:,1].argsort(0)"
   ]
  },
  {
   "cell_type": "code",
   "execution_count": 140,
   "metadata": {},
   "outputs": [
    {
     "data": {
      "image/png": "[encoded data removed]",
      "text/plain": [
       "<Figure size 576x396 with 1 Axes>"
      ]
     },
     "metadata": {},
     "output_type": "display_data"
    }
   ],
   "source": [
    "xsort = X[SortIndex][:,0] \n",
    "fig = plt.figure() \n",
    "ax = fig.add_subplot(1,1,1) \n",
    "ax.scatter(bill,tip, color='red') \n",
    "ax.plot(xsort[:,1],ypred[SortIndex], color = 'blue', linewidth=5) \n",
    "plt.xlabel('X') \n",
    "plt.ylabel('Y') \n",
    "plt.show();"
   ]
  },
  {
   "cell_type": "code",
   "execution_count": 68,
   "metadata": {},
   "outputs": [],
   "source": []
  },
  {
   "cell_type": "code",
   "execution_count": 69,
   "metadata": {},
   "outputs": [],
   "source": []
  },
  {
   "cell_type": "code",
   "execution_count": 71,
   "metadata": {},
   "outputs": [],
   "source": []
  },
  {
   "cell_type": "code",
   "execution_count": null,
   "metadata": {},
   "outputs": [],
   "source": []
  }
 ],
 "metadata": {
  "kernelspec": {
   "display_name": "Python 3",
   "language": "python",
   "name": "python3"
  },
  "language_info": {
   "codemirror_mode": {
    "name": "ipython",
    "version": 3
   },
   "file_extension": ".py",
   "mimetype": "text/x-python",
   "name": "python",
   "nbconvert_exporter": "python",
   "pygments_lexer": "ipython3",
   "version": "3.7.3"
  }
 },
 "nbformat": 4,
 "nbformat_minor": 2
}
